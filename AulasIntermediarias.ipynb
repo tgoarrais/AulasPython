{
 "cells": [
  {
   "cell_type": "markdown",
   "metadata": {},
   "source": [
    "# DECLRAÇÕES"
   ]
  },
  {
   "cell_type": "markdown",
   "metadata": {},
   "source": [
    "# if, elif e else\n",
    "\n",
    "If É uma estrutura de controle de fluxo de codigo que nos permite informar ao computador quais ações tomar com base em um determinado conjunto de resultados."
   ]
  },
  {
   "cell_type": "code",
   "execution_count": 2,
   "metadata": {},
   "outputs": [],
   "source": [
    "notas = [8,10,9,3,10,5,1,6,7,10,8,2,7,1]\n",
    "dic_notas = {'João':8.5, 'Maria':6, 'Jairo':3}"
   ]
  },
  {
   "cell_type": "code",
   "execution_count": 3,
   "metadata": {},
   "outputs": [
    {
     "name": "stdout",
     "output_type": "stream",
     "text": [
      "Reprovado\n"
     ]
    }
   ],
   "source": [
    "x = 'Jairo'\n",
    "\n",
    "if dic_notas[x] >= 8:\n",
    "    print(\"Aprovado\")\n",
    "elif dic_notas[x] <= 7 and dic_notas[x] >= 5:\n",
    "    print(\"Recuperação\")\n",
    "else:\n",
    "    print(\"Reprovado\")"
   ]
  },
  {
   "cell_type": "code",
   "execution_count": 4,
   "metadata": {},
   "outputs": [
    {
     "name": "stdout",
     "output_type": "stream",
     "text": [
      "Aprovado\n",
      "Aprovado\n",
      "Aprovado\n",
      "Reprovado\n",
      "Aprovado\n",
      "Recuperação\n",
      "Reprovado\n",
      "Recuperação\n",
      "Recuperação\n",
      "Aprovado\n",
      "Aprovado\n",
      "Reprovado\n",
      "Recuperação\n",
      "Reprovado\n"
     ]
    }
   ],
   "source": [
    "for x in notas:\n",
    "    if x >= 8:\n",
    "        print(\"Aprovado\")\n",
    "    elif x <= 7 and x >= 5:\n",
    "        print(\"Recuperação\")\n",
    "    else:\n",
    "        print(\"Reprovado\")"
   ]
  },
  {
   "cell_type": "markdown",
   "metadata": {},
   "source": [
    "# For\n",
    "\n",
    "É uma estrutura de controle de fluxo de codigo que permite a execução de multiplas funções dependendo da quantidade determinada para elas, baseando se em um loop."
   ]
  },
  {
   "cell_type": "code",
   "execution_count": 5,
   "metadata": {},
   "outputs": [
    {
     "name": "stdout",
     "output_type": "stream",
     "text": [
      "9\n",
      "1\n",
      "20\n",
      "4\n",
      "8\n",
      "3\n",
      "200\n",
      "7\n",
      "33\n"
     ]
    }
   ],
   "source": [
    "#printando cada numero, lembrando que  o laço for só funciona com objetos iteráveis .\n",
    "l  = [9,1,20,4,8,3,200,7,33]\n",
    "for num in l:\n",
    "    print(num)"
   ]
  },
  {
   "cell_type": "code",
   "execution_count": 6,
   "metadata": {},
   "outputs": [
    {
     "name": "stdout",
     "output_type": "stream",
     "text": [
      "O numero 9 é ímpar\n",
      "O numero 1 é ímpar\n",
      "O numero 20 é par\n",
      "O numero 4 é par\n",
      "O numero 8 é par\n",
      "O numero 3 é ímpar\n",
      "O numero 200 é par\n",
      "O numero 7 é ímpar\n",
      "O numero 33 é ímpar\n"
     ]
    }
   ],
   "source": [
    "# verificando se o numero da lista é ímpar ou par!\n",
    "for num in l:\n",
    "    if num %2 == 0:\n",
    "        print(\"O numero\",num,\"é par\")\n",
    "    else:\n",
    "        print(\"O numero\",num,\"é ímpar\")"
   ]
  },
  {
   "cell_type": "code",
   "execution_count": 7,
   "metadata": {},
   "outputs": [
    {
     "name": "stdout",
     "output_type": "stream",
     "text": [
      "285\n"
     ]
    }
   ],
   "source": [
    "soma = 0\n",
    "for num in l:\n",
    "    soma += num\n",
    "    \n",
    "print(soma)"
   ]
  },
  {
   "cell_type": "code",
   "execution_count": 8,
   "metadata": {},
   "outputs": [
    {
     "name": "stdout",
     "output_type": "stream",
     "text": [
      "H\n",
      "e\n",
      "l\n",
      "l\n",
      "o\n",
      " \n",
      "W\n",
      "o\n",
      "r\n",
      "l\n",
      "d\n"
     ]
    }
   ],
   "source": [
    "#testando laço for com iterario em strings\n",
    "\n",
    "string = \"Hello World\"\n",
    "\n",
    "for letter in string:\n",
    "    print(letter)"
   ]
  },
  {
   "cell_type": "code",
   "execution_count": 9,
   "metadata": {},
   "outputs": [
    {
     "name": "stdout",
     "output_type": "stream",
     "text": [
      "1\n",
      "2\n",
      "3\n",
      "4\n",
      "5\n",
      "6\n"
     ]
    }
   ],
   "source": [
    "#Iterario em tuplas\n",
    "tup = (1,2,3,4,5,6)\n",
    "for t in tup:\n",
    "    print(t)"
   ]
  },
  {
   "cell_type": "code",
   "execution_count": 10,
   "metadata": {},
   "outputs": [],
   "source": [
    "lista = [(1,2,3),(4,5,6),(7,8,9)]"
   ]
  },
  {
   "cell_type": "code",
   "execution_count": 11,
   "metadata": {},
   "outputs": [],
   "source": [
    "(t1,t2,t3) = lista[1]"
   ]
  },
  {
   "cell_type": "code",
   "execution_count": 12,
   "metadata": {},
   "outputs": [
    {
     "data": {
      "text/plain": [
       "4"
      ]
     },
     "execution_count": 12,
     "metadata": {},
     "output_type": "execute_result"
    }
   ],
   "source": [
    "t1"
   ]
  },
  {
   "cell_type": "code",
   "execution_count": 13,
   "metadata": {},
   "outputs": [
    {
     "name": "stdout",
     "output_type": "stream",
     "text": [
      "6\n",
      "120\n",
      "504\n"
     ]
    }
   ],
   "source": [
    "#desembalagem de tuplas(importante em retorno de fuções)\n",
    "for (t1,t2,t3) in lista:\n",
    "    print(t1*t2*t3)"
   ]
  },
  {
   "cell_type": "code",
   "execution_count": 14,
   "metadata": {},
   "outputs": [
    {
     "name": "stdout",
     "output_type": "stream",
     "text": [
      "(1, 2, 3)\n",
      "(4, 5, 6)\n",
      "(7, 8, 9)\n"
     ]
    }
   ],
   "source": [
    "for (t1) in lista:\n",
    "    print(t1)"
   ]
  },
  {
   "cell_type": "code",
   "execution_count": 15,
   "metadata": {},
   "outputs": [],
   "source": [
    "#iterario com dicionarios\n",
    "d = {'k1':1, 'k2':2, 'k3': 3}"
   ]
  },
  {
   "cell_type": "code",
   "execution_count": 16,
   "metadata": {},
   "outputs": [
    {
     "name": "stdout",
     "output_type": "stream",
     "text": [
      "k1\n",
      "k2\n",
      "k3\n"
     ]
    }
   ],
   "source": [
    "for item in d:\n",
    "    print(item)"
   ]
  },
  {
   "cell_type": "code",
   "execution_count": 17,
   "metadata": {},
   "outputs": [
    {
     "name": "stdout",
     "output_type": "stream",
     "text": [
      "('k1', 1)\n",
      "('k2', 2)\n",
      "('k3', 3)\n"
     ]
    }
   ],
   "source": [
    "for item in d.items():\n",
    "     print(item)"
   ]
  },
  {
   "cell_type": "code",
   "execution_count": 18,
   "metadata": {},
   "outputs": [
    {
     "name": "stdout",
     "output_type": "stream",
     "text": [
      "k1 : 1\n",
      "k2 : 2\n",
      "k3 : 3\n"
     ]
    }
   ],
   "source": [
    "for (chave, valor) in d.items():\n",
    "    print(chave, \":\", valor)"
   ]
  },
  {
   "cell_type": "markdown",
   "metadata": {},
   "source": [
    "# While\n",
    "\n"
   ]
  },
  {
   "cell_type": "code",
   "execution_count": 19,
   "metadata": {},
   "outputs": [
    {
     "name": "stdout",
     "output_type": "stream",
     "text": [
      "1\n",
      "Voce quer ir de novo? s/n  s\n",
      "3\n",
      "Voce quer ir de novo? s/n  s\n",
      "6\n",
      "Voce quer ir de novo? s/n  n\n"
     ]
    }
   ],
   "source": [
    "\n",
    "import random\n",
    "\n",
    "while True:\n",
    "    for x in range(1):\n",
    "        print (random.randint(1,6))\n",
    "        resp = input(\"Voce quer ir de novo? s/n  \")\n",
    "    if resp == 'n':\n",
    "        break"
   ]
  },
  {
   "cell_type": "markdown",
   "metadata": {},
   "source": [
    "# Range()\n",
    "\n",
    "O metodo Range permite que se crie listas pré determinadas."
   ]
  },
  {
   "cell_type": "code",
   "execution_count": 20,
   "metadata": {},
   "outputs": [
    {
     "data": {
      "text/plain": [
       "range(0, 10)"
      ]
     },
     "execution_count": 20,
     "metadata": {},
     "output_type": "execute_result"
    }
   ],
   "source": [
    "#foi criado um gerador(conjunto de regras que ficam amarmazeando na memoria, porem não foi inicializado)\n",
    "range(0,10)"
   ]
  },
  {
   "cell_type": "code",
   "execution_count": 21,
   "metadata": {},
   "outputs": [],
   "source": [
    "#No caso sera inicializado com o metodo list.\n",
    "#note que o ultimo numero de parametro(10) não é gerado na lista, sendo sempre o numero antecessor  a finalizar a lista."
   ]
  },
  {
   "cell_type": "code",
   "execution_count": 22,
   "metadata": {},
   "outputs": [
    {
     "data": {
      "text/plain": [
       "[0, 2, 4, 6, 8, 10]"
      ]
     },
     "execution_count": 22,
     "metadata": {},
     "output_type": "execute_result"
    }
   ],
   "source": [
    "#Note que o terceiro numero determina o intervalo da lista.\n",
    "\n",
    "list(range(0,11,2))\n"
   ]
  },
  {
   "cell_type": "code",
   "execution_count": 23,
   "metadata": {},
   "outputs": [
    {
     "data": {
      "text/plain": [
       "[20, 19, 18, 17, 16, 15, 14, 13, 12, 11]"
      ]
     },
     "execution_count": 23,
     "metadata": {},
     "output_type": "execute_result"
    }
   ],
   "source": [
    "#lista com valores decrecente\n",
    "\n",
    "list(range(20,10,-1))"
   ]
  },
  {
   "cell_type": "code",
   "execution_count": 23,
   "metadata": {},
   "outputs": [
    {
     "name": "stdout",
     "output_type": "stream",
     "text": [
      "0 é par\n",
      "1 é impar\n",
      "2 é par\n",
      "3 é impar\n",
      "4 é par\n",
      "5 é impar\n",
      "6 é par\n",
      "7 é impar\n",
      "8 é par\n",
      "9 é impar\n",
      "10 é par\n",
      "11 é impar\n",
      "12 é par\n",
      "13 é impar\n",
      "14 é par\n",
      "15 é impar\n",
      "16 é par\n",
      "17 é impar\n",
      "18 é par\n",
      "19 é impar\n",
      "20 é par\n",
      "21 é impar\n",
      "22 é par\n",
      "23 é impar\n",
      "24 é par\n",
      "25 é impar\n",
      "26 é par\n",
      "27 é impar\n",
      "28 é par\n",
      "29 é impar\n",
      "30 é par\n"
     ]
    }
   ],
   "source": [
    "#range é muito comum ser combinado com o metodo for\n",
    "for i in range(0,51):\n",
    "    if i %2 == 0:\n",
    "        print(i,\"é par\")\n",
    "    else:\n",
    "        print(i,\"é impar\")\n",
    "    if i >= 30:\n",
    "        break"
   ]
  },
  {
   "cell_type": "markdown",
   "metadata": {},
   "source": [
    "# compreensão em lista"
   ]
  },
  {
   "cell_type": "code",
   "execution_count": 33,
   "metadata": {},
   "outputs": [
    {
     "name": "stdout",
     "output_type": "stream",
     "text": [
      "[0, 1, 2, 3, 4, 5, 6, 7, 8, 9, 10, 11, 12, 13, 14, 15, 16, 17, 18, 19]\n"
     ]
    }
   ],
   "source": [
    "x= []\n",
    "for i in range(0,20):\n",
    "    x += [i]\n",
    "    #x.append(i) faz a mesma coisa q x += [i]\n",
    "print(x)    "
   ]
  },
  {
   "cell_type": "code",
   "execution_count": 35,
   "metadata": {},
   "outputs": [
    {
     "name": "stdout",
     "output_type": "stream",
     "text": [
      "[0, 1, 2, 3, 4, 5, 6, 7, 8, 9, 10, 11, 12, 13, 14, 15, 16, 17, 18, 19]\n"
     ]
    }
   ],
   "source": [
    "# compreensão em lista permite se fazer uma mesma lista de forma mais facil diminuindo o codigo em si.\n",
    "\n",
    "x2 = [i for i in range(0,20)]\n",
    "print(x2)"
   ]
  },
  {
   "cell_type": "code",
   "execution_count": 34,
   "metadata": {},
   "outputs": [],
   "source": [
    "# operacçoes matematicas podem ser feitas na mesma linha\n",
    "x3 = [(i+10)*2 for i in range(0,11)]"
   ]
  },
  {
   "cell_type": "code",
   "execution_count": 5,
   "metadata": {},
   "outputs": [
    {
     "data": {
      "text/plain": [
       "[20, 22, 24, 26, 28, 30, 32, 34, 36, 38, 40]"
      ]
     },
     "execution_count": 5,
     "metadata": {},
     "output_type": "execute_result"
    }
   ],
   "source": [
    "x3"
   ]
  },
  {
   "cell_type": "code",
   "execution_count": 8,
   "metadata": {},
   "outputs": [],
   "source": [
    "x = [i for i in range(0,20) if i %2 == 0]"
   ]
  },
  {
   "cell_type": "code",
   "execution_count": 9,
   "metadata": {},
   "outputs": [
    {
     "data": {
      "text/plain": [
       "[0, 2, 4, 6, 8, 10, 12, 14, 16, 18]"
      ]
     },
     "execution_count": 9,
     "metadata": {},
     "output_type": "execute_result"
    }
   ],
   "source": [
    "x"
   ]
  },
  {
   "cell_type": "code",
   "execution_count": 24,
   "metadata": {},
   "outputs": [
    {
     "data": {
      "text/plain": [
       "[32.0, 50.0, 59.0, 68.0, 86.0, 122.0, 212.0]"
      ]
     },
     "execution_count": 24,
     "metadata": {},
     "output_type": "execute_result"
    }
   ],
   "source": [
    "#conversão de temperatura de celcius para fahrenheit\n",
    "\n",
    "celsius = [0, 10, 15, 20, 30, 50, 100]\n",
    "\n",
    "fahrenheit = [temp*9/5+32 for temp in celsius]\n",
    "\n",
    "fahrenheit"
   ]
  },
  {
   "cell_type": "code",
   "execution_count": null,
   "metadata": {},
   "outputs": [],
   "source": []
  },
  {
   "cell_type": "code",
   "execution_count": null,
   "metadata": {},
   "outputs": [],
   "source": [
    "nome = input(\"Escreva seu nome completo\")\n",
    "\n"
   ]
  }
 ],
 "metadata": {
  "kernelspec": {
   "display_name": "Python 3",
   "language": "python",
   "name": "python3"
  },
  "language_info": {
   "codemirror_mode": {
    "name": "ipython",
    "version": 3
   },
   "file_extension": ".py",
   "mimetype": "text/x-python",
   "name": "python",
   "nbconvert_exporter": "python",
   "pygments_lexer": "ipython3",
   "version": "3.8.5"
  }
 },
 "nbformat": 4,
 "nbformat_minor": 4
}
